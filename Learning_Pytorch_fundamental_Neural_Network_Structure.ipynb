{
  "nbformat": 4,
  "nbformat_minor": 0,
  "metadata": {
    "colab": {
      "name": "Learning Pytorch fundamental Neural Network Structure.ipynb",
      "provenance": [],
      "authorship_tag": "ABX9TyM1BlDD7Esnv6SH79pvH/h0",
      "include_colab_link": true
    },
    "kernelspec": {
      "name": "python3",
      "display_name": "Python 3"
    },
    "language_info": {
      "name": "python"
    },
    "accelerator": "GPU"
  },
  "cells": [
    {
      "cell_type": "markdown",
      "metadata": {
        "id": "view-in-github",
        "colab_type": "text"
      },
      "source": [
        "<a href=\"https://colab.research.google.com/github/bibekebib/Pytorch-Tutorials-Code-Base/blob/main/Learning_Pytorch_fundamental_Neural_Network_Structure.ipynb\" target=\"_parent\"><img src=\"https://colab.research.google.com/assets/colab-badge.svg\" alt=\"Open In Colab\"/></a>"
      ]
    },
    {
      "cell_type": "markdown",
      "source": [
        "first Lets import all the requirements that is needed for building the basic architecture of Neural Network in pytorch. If you havent yet installed pytorch, i strongly suggest you to install it cause i wont be teaching it in details but i will tell in short brief about installing it. "
      ],
      "metadata": {
        "id": "1pBHoLzaJ9bu"
      }
    },
    {
      "cell_type": "markdown",
      "source": [
        "Plus, we won't talking much about pytorch fundamentals, like tensors and other operations, but if you want it, I will make separate video on that. But in this series, I assume you are pretty familiar with basic pytorch , numpy and python and we will continue with that assumptions. So much to cover, lets see how far we can go on this."
      ],
      "metadata": {
        "id": "gpm_93ZXLGhS"
      }
    },
    {
      "cell_type": "markdown",
      "source": [
        "The first task is to import the libraries we need for the overall task, pytorch is the must at first and if you need something else in the future, we will import requirements in subsequent cells."
      ],
      "metadata": {
        "id": "WQJky274LjfK"
      }
    },
    {
      "cell_type": "code",
      "source": [
        "# importing libraries"
      ],
      "metadata": {
        "id": "WA0CEYYyLxLV"
      },
      "execution_count": null,
      "outputs": []
    },
    {
      "cell_type": "code",
      "source": [
        "import torch"
      ],
      "metadata": {
        "id": "Z3R8S4OYL0SC"
      },
      "execution_count": null,
      "outputs": []
    },
    {
      "cell_type": "markdown",
      "source": [
        " i have take a toy dataset for less complications, but for now lets stick with this one. "
      ],
      "metadata": {
        "id": "mdqintAEMNUi"
      }
    },
    {
      "cell_type": "code",
      "source": [
        "\n",
        "\n",
        "\n",
        "x  = [[1,2],[3,4],[5,6],[7,8]]\n",
        "y = [ [3],[7],[11],[15]]\n",
        "\n"
      ],
      "metadata": {
        "id": "76a0FGJtL2lQ"
      },
      "execution_count": null,
      "outputs": []
    },
    {
      "cell_type": "markdown",
      "source": [
        "the next task is to convert it into tensor which is the building block of pytorch library, its like numpy ndarray, but not exactly the same. "
      ],
      "metadata": {
        "id": "SnZ-l3jpNsKB"
      }
    },
    {
      "cell_type": "code",
      "source": [
        "x = torch.tensor(x).float()\n",
        "y = torch.tensor(y).float()\n"
      ],
      "metadata": {
        "id": "A8Ek5yhuOcVc"
      },
      "execution_count": null,
      "outputs": []
    },
    {
      "cell_type": "markdown",
      "source": [
        "Like i mentioned above, tensor and numpy ndarray are same, but different, the difference can be seen when it comes to execution. Pytorch tensors can be executed in GPU whil numpy array doesnt support execution in cpu, plus because of threading, it takes less time for pytorch tensors to execute even in cpu to numpy array. So, if we have GPU available, we will be using it in full extend. \n",
        "\n",
        "\n",
        "Its difficult to afford GPU by us, so we will be using Free GOOGLE COLAB and enable GPU there. "
      ],
      "metadata": {
        "id": "F9eCVUDzOl2Q"
      }
    },
    {
      "cell_type": "code",
      "source": [
        "\n",
        "from torch.cuda import is_available\n",
        "device = 'cuda' if torch.cuda.is_available() else 'cpu'\n",
        "\n",
        "print(device)"
      ],
      "metadata": {
        "colab": {
          "base_uri": "https://localhost:8080/"
        },
        "id": "I_Y2j0QNPOvv",
        "outputId": "87bfde22-d8d9-4d04-bf4d-c1409e5bc29f"
      },
      "execution_count": null,
      "outputs": [
        {
          "output_type": "stream",
          "name": "stdout",
          "text": [
            "cuda\n"
          ]
        }
      ]
    },
    {
      "cell_type": "code",
      "source": [
        "X = x.to(device)\n",
        "Y = y.to(device)"
      ],
      "metadata": {
        "id": "kolkPo3qPdyE"
      },
      "execution_count": null,
      "outputs": []
    },
    {
      "cell_type": "markdown",
      "source": [
        "Now, we are into the basis foundation of Neural Network. Lets learn each step, with explanation of each step."
      ],
      "metadata": {
        "id": "s8gHCluePoCT"
      }
    },
    {
      "cell_type": "code",
      "source": [
        "import torch.nn as nn \n",
        "# torch.nn is the class where everything about neural network resides. "
      ],
      "metadata": {
        "id": "LWl3r_qCPvz_"
      },
      "execution_count": null,
      "outputs": []
    },
    {
      "cell_type": "code",
      "source": [
        "class Nnet(nn.Module):\n",
        "  #inheriting the class torch.nn.Module into Nnet It is compulsory to inherit from nn.Module\n",
        "  # as it is the base class for all NN.\n",
        "  def __init__(self): #making all the initializations of all components nn.Module\n",
        "    super().__init__()\n",
        "    # super()__init__() make sure that the class completely inherit nn.Module\n",
        "    #with this, we can completely take advantage of pre-built functionlaties of nn.Module\n",
        "\n",
        "\n",
        "    #define Layers in the Neural Network\n",
        "\n",
        "    self.input_to_hidden_layer = nn.Linear(2,8)\n",
        "    self.hidden_layer_activation = nn.ReLU()\n",
        "    self.hidden_to_output = nn.Linear(8,1)\n",
        "\n",
        "\n",
        "    #defining Forward Propgation\n",
        "\n",
        "  def forward (self, x):\n",
        "      x = self.input_to_hidden_layer(x)\n",
        "      x = self.hidden_layer_activation(x)\n",
        "      x = self.hidden_to_output(x)\n",
        "      return x\n"
      ],
      "metadata": {
        "id": "DpkF0KJxP7ea"
      },
      "execution_count": null,
      "outputs": []
    },
    {
      "cell_type": "markdown",
      "source": [
        "here we are defining 3 layers, input layer, hidden layer and output layer, with activation in the hidden layer.\n",
        "\n",
        " If we look closely, we can see we have used nn.Linear(2,8) and nn.Linear(8,1) it means, the first parameter is the number of input features to the node and the second is the number of output features from the node. This means, as in our dataset, we will be sending 2 features into the node and it will output 8 output features in the hidden layer. \n",
        "\n",
        " The hidden layer also comes up with activaion layers, in brief the activation layers makes sure either to fire or not to the node. \n",
        " \n",
        " Here, we have used ReLU activation function, which stands for Rectified Linear Unit, \n",
        " The other popular activation function are \n",
        " * sigmoid \n",
        " * Softmax \n",
        " * Tanh"
      ],
      "metadata": {
        "id": "7exH-oQaSwEt"
      }
    },
    {
      "cell_type": "markdown",
      "source": [
        "The forward function is for defining forward propogation, the name \"FORWARD\" is compulosry as it is reserved word to define forward propagation. With other name, it would create error. "
      ],
      "metadata": {
        "id": "Jy3OzAaTT3wu"
      }
    },
    {
      "cell_type": "markdown",
      "source": [
        "Lets create an instance of NNet class as mynet.\n",
        "\n",
        "Also, we will look how the randomly initialized weights would look like."
      ],
      "metadata": {
        "id": "Hpc3T82-VJKu"
      }
    },
    {
      "cell_type": "code",
      "source": [
        "mynet = Nnet().to(device)\n",
        "# taking everything to the device is compulory if we want to utilize GPU.\n"
      ],
      "metadata": {
        "id": "z0TNKGSFS4Au"
      },
      "execution_count": null,
      "outputs": []
    },
    {
      "cell_type": "code",
      "source": [
        "mynet.input_to_hidden_layer.weight"
      ],
      "metadata": {
        "colab": {
          "base_uri": "https://localhost:8080/"
        },
        "id": "mqFbcF1UT9ac",
        "outputId": "a157513b-8554-4fcd-c403-8601738389b8"
      },
      "execution_count": null,
      "outputs": [
        {
          "output_type": "execute_result",
          "data": {
            "text/plain": [
              "Parameter containing:\n",
              "tensor([[-0.1340,  0.0216],\n",
              "        [-0.4780, -0.1956],\n",
              "        [ 0.1034, -0.6665],\n",
              "        [-0.4339, -0.5307],\n",
              "        [ 0.3050,  0.2852],\n",
              "        [ 0.3521, -0.0852],\n",
              "        [ 0.5753, -0.2291],\n",
              "        [-0.2018,  0.5652]], requires_grad=True)"
            ]
          },
          "metadata": {},
          "execution_count": 20
        }
      ]
    },
    {
      "cell_type": "markdown",
      "source": [
        "Note, everytime you run the above code, the weights initialized will be different, if you want to have same, you have to specify the seed using manual seed method in torch as torch.manual_seed(42)."
      ],
      "metadata": {
        "id": "dcK-XpdXVsEx"
      }
    },
    {
      "cell_type": "markdown",
      "source": [
        "Now, lets define the loss function for our model. We will be using mean square loss in our case, the other available prominent loss functions can be\n",
        "* CrossEntropyLoss (for multinomial classifications)\n",
        "* BCELoss (Binary cross entropy loss for binary classification)\n",
        "\n",
        "But more on these in upcming tutorials. "
      ],
      "metadata": {
        "id": "yGZ4SlxuWQM8"
      }
    },
    {
      "cell_type": "code",
      "source": [
        "loss_func = nn.MSELoss()\n",
        "\n",
        "model_output = mynet(X)\n",
        "loss_value = loss_func(model_output, Y)\n",
        "print(loss_value)"
      ],
      "metadata": {
        "colab": {
          "base_uri": "https://localhost:8080/"
        },
        "id": "ARmHTBK_Wxpl",
        "outputId": "d3b8a085-aed1-480b-8a4e-98790ee1c29d"
      },
      "execution_count": null,
      "outputs": [
        {
          "output_type": "stream",
          "name": "stdout",
          "text": [
            "tensor(78.7674, grad_fn=<MseLossBackward0>)\n"
          ]
        }
      ]
    },
    {
      "cell_type": "markdown",
      "source": [
        "In pytorch, for loss function, the first parameter is the predicted output and the second parameter is the actual output required."
      ],
      "metadata": {
        "id": "PUsEYT-mXC1p"
      }
    },
    {
      "cell_type": "markdown",
      "source": [
        "Now, its time to optimize the model using optimizer that tries to reduce the loss value. \n",
        "The inputs to the optimizer will be weights, biases and learning rate when updating the weights. \n",
        "\n",
        "Here, we will be employing Stochastic gradient descent (SGD), other optimizers will be used for other use cases.\n"
      ],
      "metadata": {
        "id": "t6omBjxGXeB4"
      }
    },
    {
      "cell_type": "code",
      "source": [
        "from torch.optim import SGD\n",
        "opt = SGD(mynet.parameters(), lr=0.001)\n"
      ],
      "metadata": {
        "id": "Subxh34oX9cB"
      },
      "execution_count": null,
      "outputs": []
    },
    {
      "cell_type": "markdown",
      "source": [
        "Now we need to perform the following steps in a single epoch together and run all the steps for number of loops."
      ],
      "metadata": {
        "id": "F0Lawn8DYJY_"
      }
    },
    {
      "cell_type": "markdown",
      "source": [
        "* Calulate loss values correponging to given input and output\n",
        "* calculate the gradient correponding to each parameter\n",
        "* update the weights based on learning rate and gardient\n",
        "* flush out previous epochs gardient"
      ],
      "metadata": {
        "id": "7c5_EmvgYgHJ"
      }
    },
    {
      "cell_type": "code",
      "source": [
        "loss_history = []\n",
        "for _ in range(50):\n",
        "  opt.zero_grad() # flush out previous epochs gradients\n",
        "  loss_value = loss_func(mynet(X), Y) #calculating loss value\n",
        "  loss_value.backward() #performing back propagation\n",
        "  opt.step() #update weights according to the gradients calculated\n",
        "  loss_history.append(loss_value.cpu().detach().numpy()) \n",
        "  #The last step to convert all the tensors in GPU to cpu and then to numpy since numpy doesnt support GPU.\n",
        "  "
      ],
      "metadata": {
        "id": "hw2-BFniY4xd"
      },
      "execution_count": null,
      "outputs": []
    },
    {
      "cell_type": "markdown",
      "source": [
        "Lets plot out result."
      ],
      "metadata": {
        "id": "EWIotI7jZtik"
      }
    },
    {
      "cell_type": "code",
      "source": [
        "import matplotlib.pyplot as plt\n",
        "%matplotlib inline\n",
        "plt.plot(loss_history)\n",
        "plt.title('loss variation over increasing epochs')\n",
        "plt.xlabel('epochs')\n",
        "plt.ylabel('loss value')"
      ],
      "metadata": {
        "colab": {
          "base_uri": "https://localhost:8080/",
          "height": 313
        },
        "id": "hgaI0ToSZwzK",
        "outputId": "469eded3-4e3b-4bac-e874-ad5731081d0c"
      },
      "execution_count": null,
      "outputs": [
        {
          "output_type": "execute_result",
          "data": {
            "text/plain": [
              "Text(0, 0.5, 'loss value')"
            ]
          },
          "metadata": {},
          "execution_count": 25
        },
        {
          "output_type": "display_data",
          "data": {
            "text/plain": [
              "<Figure size 432x288 with 1 Axes>"
            ],
            "image/png": "[encoded data removed]"
          },
          "metadata": {
            "needs_background": "light"
          }
        }
      ]
    },
    {
      "cell_type": "markdown",
      "source": [
        "# Saving and loading the pytorch model\n",
        " "
      ],
      "metadata": {
        "id": "bsBHU1FEZ7wY"
      }
    },
    {
      "cell_type": "code",
      "source": [
        "#saving model\n",
        "torch.save(mynet.state_dict(), 'mymodel.pth')\n"
      ],
      "metadata": {
        "id": "jdxaWgwkaEfH"
      },
      "execution_count": null,
      "outputs": []
    },
    {
      "cell_type": "code",
      "source": [
        "#loading model\n",
        "mynet.load_state_dict(torch.load('mymodel.pth'))"
      ],
      "metadata": {
        "colab": {
          "base_uri": "https://localhost:8080/"
        },
        "id": "r2XWOyzMaK-N",
        "outputId": "52b38fbc-c1e1-4853-f45a-6fe6f79c8dc8"
      },
      "execution_count": null,
      "outputs": [
        {
          "output_type": "execute_result",
          "data": {
            "text/plain": [
              "<All keys matched successfully>"
            ]
          },
          "metadata": {},
          "execution_count": 28
        }
      ]
    },
    {
      "cell_type": "code",
      "source": [
        ""
      ],
      "metadata": {
        "id": "1XF4bGX0auz3"
      },
      "execution_count": null,
      "outputs": []
    }
  ]
}